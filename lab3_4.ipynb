{
 "cells": [
  {
   "cell_type": "code",
   "execution_count": null,
   "metadata": {},
   "outputs": [],
   "source": [
    "def prime(c):\n",
    "    for i in range(2, int(c**0.5)+1):\n",
    "        if c%i == 0:\n",
    "            return False\n",
    "    return True\n",
    "a = [int(x) for x in input().split()]\n",
    "print(*list(filter(prime, a)))"
   ]
  }
 ],
 "metadata": {
  "language_info": {
   "name": "python"
  }
 },
 "nbformat": 4,
 "nbformat_minor": 2
}
