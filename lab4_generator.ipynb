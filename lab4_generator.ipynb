{
 "cells": [
  {
   "cell_type": "code",
   "execution_count": null,
   "metadata": {},
   "outputs": [
    {
     "name": "stdout",
     "output_type": "stream",
     "text": [
      "1\n",
      "4\n",
      "9\n",
      "16\n",
      "25\n",
      "36\n",
      "49\n",
      "64\n",
      "81\n",
      "100\n"
     ]
    }
   ],
   "source": [
    "\"\"\"n = (int(x) for x in input().split())\n",
    "print(*(x**2 for x in n))\"\"\"\n",
    "def sq(n):\n",
    "    i = 1\n",
    "    while i <= n:\n",
    "        yield i**2\n",
    "        i += 1\n",
    "n = int(input())\n",
    "for i in sq(n):\n",
    "    print(i)\n",
    "    \n"
   ]
  },
  {
   "cell_type": "code",
   "execution_count": 20,
   "metadata": {},
   "outputs": [
    {
     "name": "stdout",
     "output_type": "stream",
     "text": [
      "1\n",
      "4\n",
      "9\n",
      "16\n",
      "25\n"
     ]
    }
   ],
   "source": [
    "class Sq:\n",
    "    def __init__(self, n):\n",
    "        self.n = n\n",
    "    def __iter__(self):\n",
    "        self.s = 0\n",
    "        return self\n",
    "    def  __next__(self):\n",
    "        if self.s < self.n:\n",
    "            self.s += 1\n",
    "            return self.s**2\n",
    "        else:\n",
    "            raise StopIteration\n",
    "        \n",
    "        \n",
    "        \n",
    "a = int(input())\n",
    "sqr = Sq(a)\n",
    "iterr = iter(sqr)\n",
    "for i in iterr:\n",
    "    print(i)\n",
    "\n"
   ]
  },
  {
   "cell_type": "code",
   "execution_count": null,
   "metadata": {},
   "outputs": [
    {
     "name": "stdout",
     "output_type": "stream",
     "text": [
      "0, 2, 4, 6, 8, 10, 12\n"
     ]
    }
   ],
   "source": [
    "def even(n):\n",
    "    i = 0\n",
    "    while i <= n:\n",
    "        if i%2 == 0:\n",
    "            yield i\n",
    "        i += 1\n",
    "n = int(input())\n",
    "for i in even(n):\n",
    "    if i != (n):\n",
    "        print(i, end = \", \")\n",
    "    else:\n",
    "        print(i)"
   ]
  },
  {
   "cell_type": "code",
   "execution_count": 25,
   "metadata": {},
   "outputs": [
    {
     "name": "stdout",
     "output_type": "stream",
     "text": [
      "0, 2, 4, 6, 8, 10, 12, "
     ]
    }
   ],
   "source": [
    "class Even:\n",
    "    def __init__(self, n):\n",
    "        self.n = n\n",
    "    def __iter__(self):\n",
    "        self.s = 0\n",
    "        return self\n",
    "    def __next__(self):\n",
    "        if self.s <= self.n:\n",
    "            x = self.s\n",
    "            self.s += 2\n",
    "            return x\n",
    "        else:\n",
    "            raise StopIteration\n",
    "a = int(input())\n",
    "ev = Even(a)\n",
    "eve = iter(ev)\n",
    "for i in eve:\n",
    "    print(i, end = \", \")"
   ]
  },
  {
   "cell_type": "code",
   "execution_count": null,
   "metadata": {},
   "outputs": [
    {
     "name": "stdout",
     "output_type": "stream",
     "text": [
      "0 12 24 36 48 60 72 84 96 108 120 132 144 "
     ]
    }
   ],
   "source": [
    "def dev(n):\n",
    "    i = 0\n",
    "    while i <= n:\n",
    "        if i%3 == 0 and  i%4 == 0:\n",
    "            yield i\n",
    "        i += 1\n",
    "n = int(input())\n",
    "for i in dev(n):\n",
    "    print(i, end = \" \")"
   ]
  },
  {
   "cell_type": "code",
   "execution_count": 37,
   "metadata": {},
   "outputs": [
    {
     "name": "stdout",
     "output_type": "stream",
     "text": [
      "12 24 36 48 60 72 84 96 108 120 132 144 "
     ]
    }
   ],
   "source": [
    "class Div:\n",
    "    def __init__(self, n):\n",
    "        self.n = n\n",
    "    def __iter__(self):\n",
    "        self.s = 12\n",
    "        return self\n",
    "    def __next__(self):\n",
    "        if self.s <= self.n:\n",
    "            x = self.s\n",
    "            self.s += 12\n",
    "            return x\n",
    "        \n",
    "                \n",
    "        else:\n",
    "            raise StopIteration\n",
    "a = int(input())\n",
    "j = Div(a)\n",
    "j = iter(j)\n",
    "for i in j:\n",
    "    print(i, end = \" \")"
   ]
  },
  {
   "cell_type": "code",
   "execution_count": 41,
   "metadata": {},
   "outputs": [
    {
     "name": "stdout",
     "output_type": "stream",
     "text": [
      "25\n",
      "36\n",
      "49\n",
      "64\n",
      "81\n"
     ]
    }
   ],
   "source": [
    "def sqr(a, b):\n",
    "    while a <= b:\n",
    "        yield a**2\n",
    "        a += 1\n",
    "a = int(input())\n",
    "b = int(input())\n",
    "for i in sqr(a, b):\n",
    "    print(i)"
   ]
  },
  {
   "cell_type": "code",
   "execution_count": 40,
   "metadata": {},
   "outputs": [
    {
     "name": "stdout",
     "output_type": "stream",
     "text": [
      "16\n",
      "25\n",
      "36\n",
      "49\n",
      "64\n",
      "81\n"
     ]
    }
   ],
   "source": [
    "class S:\n",
    "    def __init__(self, a, b):\n",
    "        self.a = a\n",
    "        self.b = b\n",
    "    def __iter__(self):\n",
    "        self.s = a\n",
    "        return self\n",
    "    def __next__(self):\n",
    "        if self.a <= self.b:\n",
    "            x = self.a\n",
    "            self.a+=1\n",
    "            return x**2\n",
    "        else:\n",
    "            raise StopIteration\n",
    "a = int(input())\n",
    "b = int(input())\n",
    "c = iter(S(a,b))\n",
    "for i in c:\n",
    "    print(i)"
   ]
  },
  {
   "cell_type": "code",
   "execution_count": null,
   "metadata": {},
   "outputs": [
    {
     "name": "stdout",
     "output_type": "stream",
     "text": [
      "10 9 8 7 6 5 4 3 2 1 0 "
     ]
    }
   ],
   "source": [
    "def rev(n):\n",
    "    i = 0\n",
    "    while i <= n:\n",
    "        yield n\n",
    "        n -= 1\n",
    "n = int(input())\n",
    "for i in rev(n):\n",
    "    print(i, end = \" \")"
   ]
  },
  {
   "cell_type": "code",
   "execution_count": 44,
   "metadata": {},
   "outputs": [
    {
     "name": "stdout",
     "output_type": "stream",
     "text": [
      "10 9 8 7 6 5 4 3 2 1 0 "
     ]
    }
   ],
   "source": [
    "class Rev:\n",
    "    def __init__(self, n):\n",
    "        self.n = n\n",
    "    def __iter__(self):\n",
    "        self.s = 0\n",
    "        return self\n",
    "    def __next__(self):\n",
    "        if self.s <= self.n:\n",
    "            x = self.n\n",
    "            self.n -= 1\n",
    "            return x\n",
    "        else:\n",
    "            raise StopIteration\n",
    "n = int(input())\n",
    "c = iter(Rev(n))\n",
    "for i in c:\n",
    "    print(i, end = \" \")"
   ]
  }
 ],
 "metadata": {
  "kernelspec": {
   "display_name": "base",
   "language": "python",
   "name": "python3"
  },
  "language_info": {
   "codemirror_mode": {
    "name": "ipython",
    "version": 3
   },
   "file_extension": ".py",
   "mimetype": "text/x-python",
   "name": "python",
   "nbconvert_exporter": "python",
   "pygments_lexer": "ipython3",
   "version": "3.12.7"
  }
 },
 "nbformat": 4,
 "nbformat_minor": 2
}
