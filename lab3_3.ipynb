{
 "cells": [
  {
   "cell_type": "code",
   "execution_count": null,
   "metadata": {},
   "outputs": [],
   "source": [
    "class Shape:\n",
    "    def __init__(self,length):\n",
    "        self.length = length\n",
    "    def area(self):\n",
    "        return 0\n",
    "class Square(Shape):\n",
    "    def __init__(self, length):\n",
    "        super().__init__(length)\n",
    "    def area(self, length):\n",
    "        return self.length**2\n",
    "a = Square(5)\n",
    "n = int(input())\n",
    "print((a.area(n)))"
   ]
  },
  {
   "cell_type": "code",
   "execution_count": null,
   "metadata": {},
   "outputs": [],
   "source": [
    "class Str:\n",
    "    def set_str(self, x):\n",
    "        self.x = x\n",
    "    def get_str(self, x):\n",
    "        return x.upper()\n",
    "a = Str()\n",
    "n = input()\n",
    "t = a.set_str(n)\n",
    "print(a.get_str(n))"
   ]
  },
  {
   "cell_type": "code",
   "execution_count": null,
   "metadata": {},
   "outputs": [],
   "source": [
    "class Shape:\n",
    "    def __init__(self,length, width):\n",
    "        self.length = length\n",
    "        self.width = width\n",
    "class Rectangle(Shape):\n",
    "    def __init__(self, length, width):\n",
    "        super().__init__(length, width)\n",
    "        self.p = length*2+width*2\n",
    "\n",
    "a = Rectangle(4,5)\n",
    "print(a.p)"
   ]
  },
  {
   "cell_type": "code",
   "execution_count": null,
   "metadata": {},
   "outputs": [],
   "source": [
    "class Point:\n",
    "    def __init__(self, x, y):\n",
    "        self.x = x\n",
    "        self.y = y\n",
    "\n",
    "    def show(self):\n",
    "        return self.x, self.y\n",
    "    def move(self,s, t):\n",
    "        self.x = s\n",
    "        self.y = t\n",
    "    def dist(self, np):\n",
    "        return ((self.x-np.x)**2+(self.y -np.y))**0.5"
   ]
  },
  {
   "cell_type": "code",
   "execution_count": null,
   "metadata": {},
   "outputs": [],
   "source": [
    "class Bankacc:\n",
    "    def __init__(self, owner, balance):\n",
    "        self.owner = owner\n",
    "        self.balance = balance\n",
    "    def deposit(self, cash):\n",
    "        self.cash = cash\n",
    "        self.balance+=self.cash\n",
    "        return f'the balance is replenished , at the moment you have {self.balance} tenge'\n",
    "\n",
    "    def withdraw(self, cashs):\n",
    "        self.cashs = cashs\n",
    "        if (self.balance <= 1000):\n",
    "            return f'minimum balance is 1000, please replenish your balance'\n",
    "        else:\n",
    "            if ((self.balance-self.cashs)>1000):\n",
    "                self.balance -= self.cashs\n",
    "                return f'withdrawal of money is complened, you have {self.balance} tenge left  in your account'\n",
    "            else:\n",
    "                s = (self.balance-1000)\n",
    "                return f'you can withdraw {s}'\n",
    "print('please enter your data')\n",
    "a = Bankacc('Ivan', 5000)\n",
    "print(a.deposit(1000))\n",
    "print(a.withdraw(6000))\n"
   ]
  }
 ],
 "metadata": {
  "language_info": {
   "name": "python"
  }
 },
 "nbformat": 4,
 "nbformat_minor": 2
}
