{
 "cells": [
  {
   "cell_type": "code",
   "execution_count": 25,
   "metadata": {},
   "outputs": [
    {
     "name": "stdout",
     "output_type": "stream",
     "text": [
      "Output radian: 0.261799\n"
     ]
    }
   ],
   "source": [
    "from math import radians as rad\n",
    "class Radian:\n",
    "    def __init__(self, degree):\n",
    "        self.degree = degree\n",
    "    def r(self):\n",
    "        return rad(self.degree)\n",
    "a = int(input('Input degree: '))\n",
    "b = Radian(a)\n",
    "print(f'Output radian: {round(b.r(), 6)}')"
   ]
  },
  {
   "cell_type": "code",
   "execution_count": null,
   "metadata": {},
   "outputs": [
    {
     "name": "stdout",
     "output_type": "stream",
     "text": [
      "Expected Output: 27.5\n"
     ]
    }
   ],
   "source": [
    "class Trapizoid:\n",
    "    def __init__(self, h, a, b):\n",
    "        self.h = h\n",
    "        self.a = a\n",
    "        self.b = b\n",
    "    def s(self):\n",
    "        if isinstance(self.h, (int, float)) and isinstance(self.a, (int, float)) and isinstance(self.b, (int, float)):\n",
    "            return (1/2*self.h*(self.a+self.b))\n",
    "        else:\n",
    "            raise TypeError('type error')\n",
    "h = float(input('Height:'))\n",
    "a = float(input('Base, first value:'))\n",
    "b = float(input('Base, second value:'))\n",
    "c = Trapizoid(h, a, b)\n",
    "print(f'Expected Output: {c.s()}')\n"
   ]
  },
  {
   "cell_type": "code",
   "execution_count": 29,
   "metadata": {},
   "outputs": [
    {
     "name": "stdout",
     "output_type": "stream",
     "text": [
      "The area of the polygon is:625.0000000000001\n"
     ]
    }
   ],
   "source": [
    "from math import tan, pi\n",
    "class Polygon:\n",
    "    def __init__(self, n, l):\n",
    "        self.n = n\n",
    "        self.l = l\n",
    "    def area(self):\n",
    "        if isinstance(self.n, int) and isinstance(self.l, (int, float)):\n",
    "            s = (self.n*self.l**2)/(4*tan(pi/self.n))\n",
    "            return s\n",
    "        else:\n",
    "            raise TypeError('type error')\n",
    "a = int(input('Input number fo sides:'))\n",
    "b = float(input('Input length of side:'))\n",
    "d = Polygon(a, b)\n",
    "print(f'The area of the polygon is:{d.area()}')"
   ]
  },
  {
   "cell_type": "code",
   "execution_count": 17,
   "metadata": {},
   "outputs": [
    {
     "name": "stdout",
     "output_type": "stream",
     "text": [
      "Expected Output: 30.0\n"
     ]
    }
   ],
   "source": [
    "class Parallelogram:\n",
    "    def __init__(self, length, height):\n",
    "        self.length = length \n",
    "        self.height = height\n",
    "    def area(self):\n",
    "        if isinstance(self.length, float) and isinstance(self.height, float):\n",
    "            return self.length * self.height\n",
    "        \n",
    "a = float(input('Length of base:'))\n",
    "b = float(input('Hight of parallelogram:'))\n",
    "c = Parallelogram(a, b)    \n",
    "print(f'Expected Output: {c.area()}')"
   ]
  }
 ],
 "metadata": {
  "kernelspec": {
   "display_name": "base",
   "language": "python",
   "name": "python3"
  },
  "language_info": {
   "codemirror_mode": {
    "name": "ipython",
    "version": 3
   },
   "file_extension": ".py",
   "mimetype": "text/x-python",
   "name": "python",
   "nbconvert_exporter": "python",
   "pygments_lexer": "ipython3",
   "version": "3.12.7"
  }
 },
 "nbformat": 4,
 "nbformat_minor": 2
}
