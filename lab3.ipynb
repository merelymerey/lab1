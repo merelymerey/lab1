{
 "cells": [
  {
   "cell_type": "code",
   "execution_count": null,
   "metadata": {},
   "outputs": [],
   "source": [
    "\n",
    "def g(g):\n",
    "    ounces = 28.3495231 * g\n",
    "    return ounces\n",
    "gram=float(input())\n",
    "print(\"ounces=\",g(gram))"
   ]
  },
  {
   "cell_type": "code",
   "execution_count": null,
   "metadata": {},
   "outputs": [],
   "source": [
    "def celcius(a):\n",
    "    return (5/6) *(a-32)\n",
    "f = int(input())\n",
    "print(celcius(f))\n"
   ]
  },
  {
   "cell_type": "code",
   "execution_count": null,
   "metadata": {},
   "outputs": [],
   "source": [
    "def cnt(head, leg):\n",
    "    c = abs(head*4-leg)//2\n",
    "    r = head-c\n",
    "    return c, r\n",
    "cc, rr = map(int, input().split())\n",
    "print(*cnt(cc, rr))"
   ]
  },
  {
   "cell_type": "code",
   "execution_count": null,
   "metadata": {},
   "outputs": [],
   "source": [
    "def prime(c):\n",
    "    for i in range(2, int(c**0.5)+1):\n",
    "        if c%i == 0:\n",
    "            return False\n",
    "    return True\n",
    "a = [int(x) for x in input().split()]\n",
    "print(*list(filter(prime, a)))"
   ]
  },
  {
   "cell_type": "code",
   "execution_count": null,
   "metadata": {},
   "outputs": [],
   "source": [
    "\n",
    "def permutations(some):\n",
    "    n = len(some)\n",
    "\n",
    "    for i in range(n):\n",
    "        for j in range(n):\n",
    "            print(some[(j-i)], end=\"\")\n",
    "        print()\n",
    "k=input()\n",
    "permutations(k)\n",
    "\n"
   ]
  },
  {
   "cell_type": "code",
   "execution_count": null,
   "metadata": {},
   "outputs": [],
   "source": [
    "\n",
    "def rev(a):\n",
    "    x = \"\"\n",
    "    for i in range(len(a)-1, 0, -1):\n",
    "        x+=a[i]+\" \"\n",
    "    return x+a[0]\n",
    "n = input().split()\n",
    "print(rev(n))"
   ]
  },
  {
   "cell_type": "code",
   "execution_count": null,
   "metadata": {},
   "outputs": [],
   "source": [
    "\n",
    "def chck(a):\n",
    "    i = 0\n",
    "    t = False\n",
    "    for i in range(len(a)-1):\n",
    "\n",
    "        if a[i]==3 and a[i+1]==3:\n",
    "            i = 1\n",
    "            t = True\n",
    "    if i == 1:\n",
    "        t = True\n",
    "    return t\n",
    "n = [int(x) for x in input().split()]\n",
    "print(chck(n))"
   ]
  },
  {
   "cell_type": "code",
   "execution_count": null,
   "metadata": {},
   "outputs": [],
   "source": [
    "\n",
    "def check(a):\n",
    "    cnt = 0\n",
    "    n = 0\n",
    "\n",
    "    for i in range(len(a)):\n",
    "        if n == 0 and a[i] == 0:\n",
    "            n = 1\n",
    "        elif a[i] == 0 and n == 1:\n",
    "            n = 2\n",
    "        else:\n",
    "            if a[i] == 7 and n ==2:\n",
    "                return True\n",
    "    return False\n",
    "\n",
    "n = [int(x) for x in input().split()]\n",
    "print(check(n))"
   ]
  },
  {
   "cell_type": "code",
   "execution_count": null,
   "metadata": {},
   "outputs": [],
   "source": [
    "from math import pi as p\n",
    "a = lambda x : (x*x*x*p*3)/4\n",
    "t = int(input())\n",
    "print(a(t))"
   ]
  },
  {
   "cell_type": "code",
   "execution_count": null,
   "metadata": {},
   "outputs": [],
   "source": [
    "def uni_e(e):\n",
    "    s = []\n",
    "    for i in a:\n",
    "        if i not in s:\n",
    "            s.append(i)\n",
    "    return(s)\n",
    "a = [i for i in input().split()]\n",
    "\n",
    "\n",
    "print(*uni_e(a))\n"
   ]
  },
  {
   "cell_type": "code",
   "execution_count": null,
   "metadata": {},
   "outputs": [],
   "source": [
    "a = lambda x: True if x==x[::-1] else False\n",
    "s= input()\n",
    "print(a(s))"
   ]
  },
  {
   "cell_type": "code",
   "execution_count": null,
   "metadata": {},
   "outputs": [],
   "source": [
    "def t(a):\n",
    "    return '*'*a\n",
    "\n",
    "a = [int(x) for x in input().split()]\n",
    "for i in a:\n",
    "    print(t(i))\n"
   ]
  },
  {
   "cell_type": "code",
   "execution_count": null,
   "metadata": {},
   "outputs": [],
   "source": [
    "\n",
    "from random import randint as r\n",
    "\n",
    "n = r(1, 20)\n",
    "print(\"Hello ! what is your name?\")\n",
    "a = input()\n",
    "print(f\"Well, {a},  I am thinking of a number between 1 and 20.\")\n",
    "print('Take a guess.')\n",
    "c=0\n",
    "while True:\n",
    "\n",
    "    nn =int(input())\n",
    "    if nn == n:\n",
    "        print(f\"Good job, {a}! You guessed my number in {c} guesses\")\n",
    "        break\n",
    "    if nn<n:\n",
    "        print('Your guess is too low')\n",
    "        print('Take guess.')\n",
    "    else:\n",
    "        print('Your guess is too high')\n",
    "        print('Take guess.')\n",
    "    c+=1\n",
    "    \n"
   ]
  },
  {
   "cell_type": "code",
   "execution_count": null,
   "metadata": {},
   "outputs": [],
   "source": []
  }
 ],
 "metadata": {
  "kernelspec": {
   "display_name": "base",
   "language": "python",
   "name": "python3"
  },
  "language_info": {
   "codemirror_mode": {
    "name": "ipython",
    "version": 3
   },
   "file_extension": ".py",
   "mimetype": "text/x-python",
   "name": "python",
   "nbconvert_exporter": "python",
   "pygments_lexer": "ipython3",
   "version": "3.12.7"
  }
 },
 "nbformat": 4,
 "nbformat_minor": 2
}
