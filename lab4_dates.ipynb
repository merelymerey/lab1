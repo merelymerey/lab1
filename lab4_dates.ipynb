{
 "cells": [
  {
   "cell_type": "code",
   "execution_count": 4,
   "metadata": {},
   "outputs": [
    {
     "name": "stdout",
     "output_type": "stream",
     "text": [
      "Date after subtracting five days: 2025-02-16\n"
     ]
    }
   ],
   "source": [
    "from datetime import datetime, timedelta\n",
    "\n",
    "current_date = datetime.now()\n",
    "new_date = current_date - timedelta(days=5)\n",
    "print(\"Date after subtracting five days:\", new_date.strftime(\"%Y-%m-%d\"))\n"
   ]
  },
  {
   "cell_type": "code",
   "execution_count": 5,
   "metadata": {},
   "outputs": [
    {
     "name": "stdout",
     "output_type": "stream",
     "text": [
      "Yesterday: 2025-02-20\n",
      "Today: 2025-02-21\n",
      "Tomorrow: 2025-02-22\n"
     ]
    }
   ],
   "source": [
    "today = datetime.now()\n",
    "yesterday = today - timedelta(days=1)\n",
    "tomorrow = today + timedelta(days=1)\n",
    "\n",
    "print(\"Yesterday:\", yesterday.strftime(\"%Y-%m-%d\"))\n",
    "print(\"Today:\", today.strftime(\"%Y-%m-%d\"))\n",
    "print(\"Tomorrow:\", tomorrow.strftime(\"%Y-%m-%d\"))\n"
   ]
  },
  {
   "cell_type": "code",
   "execution_count": 12,
   "metadata": {},
   "outputs": [
    {
     "name": "stdout",
     "output_type": "stream",
     "text": [
      "Original datetime: 2025-02-21 21:25:39.840817\n",
      "Datetime without microseconds: 2025-02-21 21:25:39\n"
     ]
    }
   ],
   "source": [
    "\n",
    "def drop_microseconds(dt):\n",
    "\n",
    "    dt_without_microseconds = dt.replace(microsecond=0)\n",
    "    return dt_without_microseconds\n",
    "\n",
    "if __name__ == \"__main__\":\n",
    "    now = datetime.now()\n",
    "\n",
    "    datetime_without_microseconds = drop_microseconds(now)\n",
    "\n",
    "    print(\"Original datetime:\", now)\n",
    "    print(\"Datetime without microseconds:\", datetime_without_microseconds)"
   ]
  },
  {
   "cell_type": "code",
   "execution_count": 11,
   "metadata": {},
   "outputs": [
    {
     "name": "stdout",
     "output_type": "stream",
     "text": [
      "94530\n"
     ]
    }
   ],
   "source": [
    "from datetime import datetime\n",
    "\n",
    "def difference(date1, date2):\n",
    "    difference = date2 - date1\n",
    "    return difference.total_seconds()\n",
    "\n",
    "if __name__ == \"__main__\":\n",
    "    date1_in = input(\"DATE 1 (YYYY-MM-DD HH:MM:SS): \")\n",
    "    date2_in = input(\"DATE 2 (YYYY-MM-DD HH:MM:SS): \")\n",
    "\n",
    "\n",
    "    date1 = datetime.strptime(date1_in, \"%Y-%m-%d %H:%M:%S\")\n",
    "    date2 = datetime.strptime(date2_in, \"%Y-%m-%d %H:%M:%S\")\n",
    "\n",
    "    difference_sec = difference(date1, date2)\n",
    "\n",
    "\n",
    "    print(int(abs(difference_sec)))\n"
   ]
  }
 ],
 "metadata": {
  "kernelspec": {
   "display_name": "base",
   "language": "python",
   "name": "python3"
  },
  "language_info": {
   "codemirror_mode": {
    "name": "ipython",
    "version": 3
   },
   "file_extension": ".py",
   "mimetype": "text/x-python",
   "name": "python",
   "nbconvert_exporter": "python",
   "pygments_lexer": "ipython3",
   "version": "3.12.7"
  }
 },
 "nbformat": 4,
 "nbformat_minor": 2
}
